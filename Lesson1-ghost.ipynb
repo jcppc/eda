{
 "cells": [
  {
   "cell_type": "markdown",
   "metadata": {},
   "source": [
    "<div class=\"alert alert-block alert-info\">\n",
    "<center> <h1> Exploratory Data Analysis (EDA) </h1> </center> <br>\n",
    "<center> <h2> Reading Files & Datasets </h2> </center> <br>\n",
    "<center> João Caldeira @ Universidade Lusófona </center>\n",
    "<center> 2023/2024 </center>"
   ]
  },
  {
   "cell_type": "markdown",
   "metadata": {},
   "source": [
    "<hr>\n",
    "<a class=\"anchor\" id=\"setup\">\n",
    "\n",
    "# 1. Initial Setup\n",
    "</a>"
   ]
  },
  {
   "cell_type": "markdown",
   "metadata": {},
   "source": [
    "## Este Notebook foi testado com Python 3.10.9 e está totalmente funcional."
   ]
  },
  {
   "cell_type": "markdown",
   "metadata": {},
   "source": [
    "<a class=\"anchor\" id=\"importlibraries\">\n",
    "\n",
    "## 1.1. Import Libraries and Initial Definitions\n",
    "\n",
    "</a>\n",
    "\n",
    "Se as livrarias que necessitamos não estiverem instaladas, devemos instalá-las logo no ínicio.\n",
    "Esta ação só é executada uma vez, e assim sendo, o seguinte código, depois da primeira execução, deve ser comentado."
   ]
  },
  {
   "cell_type": "code",
   "execution_count": null,
   "metadata": {},
   "outputs": [],
   "source": [
    "# %pip instal pandas\n",
    "# %pip install numpy"
   ]
  },
  {
   "cell_type": "markdown",
   "metadata": {},
   "source": [
    "Todas as livrarias que necessitarmos devem ser carregadas (desde que instaladas primeiro) logo no ínicio do Notebook."
   ]
  },
  {
   "cell_type": "code",
   "execution_count": null,
   "metadata": {},
   "outputs": [],
   "source": [
    "import pandas as pd"
   ]
  },
  {
   "cell_type": "markdown",
   "metadata": {},
   "source": [
    "<a class=\"anchor\" id=\"importlibraries\">\n",
    "\n",
    "## 1.2. Import Data\n",
    "\n",
    "</a>\n",
    "\n",
    "O segundo passo é carregar os dados com que queremos trabalhar. No caso de termos que lidar com um ficheiro de texto (ex: .txt, .csv), é fundamental não esquecer o separador das colunas. Abra o ficheiro no Wordpad ou Notepad e confirme o separador."
   ]
  },
  {
   "cell_type": "code",
   "execution_count": null,
   "metadata": {},
   "outputs": [],
   "source": [
    "ds = pd.read_csv(\"datasets/titanic.csv\", sep=\",\")\n",
    "ds.head()"
   ]
  },
  {
   "cell_type": "code",
   "execution_count": null,
   "metadata": {},
   "outputs": [],
   "source": [
    "ds = pd.read_csv(\"datasets/titanic.txt\", sep=\"#\")\n",
    "ds.head()"
   ]
  },
  {
   "cell_type": "code",
   "execution_count": null,
   "metadata": {},
   "outputs": [],
   "source": [
    "ds = pd.read_csv(\"datasets/titanic.tsv\", sep=\"\\t\")\n",
    "ds.head()"
   ]
  },
  {
   "cell_type": "code",
   "execution_count": null,
   "metadata": {},
   "outputs": [],
   "source": [
    "ds = pd. (\"datasets/titanic.csv\", sep=\",\")\n",
    "ds.head()"
   ]
  }
 ],
 "metadata": {
  "language_info": {
   "name": "python"
  }
 },
 "nbformat": 4,
 "nbformat_minor": 2
}
